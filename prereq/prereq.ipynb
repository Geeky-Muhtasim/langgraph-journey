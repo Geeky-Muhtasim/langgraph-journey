{
 "cells": [
  {
   "cell_type": "code",
   "execution_count": 3,
   "metadata": {},
   "outputs": [
    {
     "data": {
      "text/plain": [
       "True"
      ]
     },
     "execution_count": 3,
     "metadata": {},
     "output_type": "execute_result"
    }
   ],
   "source": [
    "import os\n",
    "from dotenv import load_dotenv\n",
    "load_dotenv()"
   ]
  },
  {
   "cell_type": "code",
   "execution_count": 4,
   "metadata": {},
   "outputs": [],
   "source": [
    "TAVILY_API_KEY = os.getenv(\"TAVILY_API_KEY\")\n",
    "LANGCHAIN_API_KEY = os.getenv(\"LANGCHAIN_API_KEY\")\n",
    "GROQ_API_KEY = os.getenv(\"GROQ_API_KEY\")\n",
    "SERPER_API_KEY = os.getenv(\"SERPER_API_KEY\")\n",
    "GOOGLE_API_KEY = os.getenv(\"GOOGLE_API_KEY\")\n",
    "LANGSMITH_PROJECT = os.getenv(\"LANGSMITH_PROJECT\")"
   ]
  },
  {
   "cell_type": "code",
   "execution_count": 5,
   "metadata": {},
   "outputs": [],
   "source": [
    "os.environ[\"TAVILY_API_KEY\"]= TAVILY_API_KEY\n",
    "os.environ[\"LANGCHAIN_API_KEY\"]= LANGCHAIN_API_KEY\n",
    "os.environ[\"GROQ_API_KEY\"]= GROQ_API_KEY\n",
    "os.environ[\"SERPER_API_KEY\"]= SERPER_API_KEY\n",
    "os.environ[\"GOOGLE_API_KEY\"]= GOOGLE_API_KEY\n",
    "os.environ[\"LANGSMITH_TRACING\"]= \"true\"\n",
    "os.environ[\"LANGSMITH_ENDPOINT\"]= \"https://api.smith.langchain.com\"\n",
    "os.environ[\"LANGSMITH_PROJECT\"]= LANGSMITH_PROJECT"
   ]
  },
  {
   "cell_type": "code",
   "execution_count": 6,
   "metadata": {},
   "outputs": [
    {
     "data": {
      "text/plain": [
       "'pre-req'"
      ]
     },
     "execution_count": 6,
     "metadata": {},
     "output_type": "execute_result"
    }
   ],
   "source": [
    "LANGSMITH_PROJECT"
   ]
  },
  {
   "cell_type": "code",
   "execution_count": 7,
   "metadata": {},
   "outputs": [
    {
     "name": "stderr",
     "output_type": "stream",
     "text": [
      "d:\\langgraph\\lang-env\\Lib\\site-packages\\tqdm\\auto.py:21: TqdmWarning: IProgress not found. Please update jupyter and ipywidgets. See https://ipywidgets.readthedocs.io/en/stable/user_install.html\n",
      "  from .autonotebook import tqdm as notebook_tqdm\n"
     ]
    }
   ],
   "source": [
    "from langchain_google_genai import GoogleGenerativeAIEmbeddings\n",
    "embeddings = GoogleGenerativeAIEmbeddings(model=\"models/text-embedding-004\")\n",
    "from langchain_google_genai import ChatGoogleGenerativeAI\n",
    "llm = ChatGoogleGenerativeAI(model=\"gemini-1.5-flash\")"
   ]
  },
  {
   "cell_type": "code",
   "execution_count": 8,
   "metadata": {},
   "outputs": [
    {
     "name": "stdout",
     "output_type": "stream",
     "text": [
      "Have a great day. Bye!\n"
     ]
    }
   ],
   "source": [
    "while True:\n",
    "    question = input(\"Ask your question: \")\n",
    "    if question!=\"quit\":\n",
    "        print(llm.invoke(question).content)\n",
    "    else:\n",
    "        print(\"Have a great day. Bye!\")\n",
    "        break"
   ]
  },
  {
   "cell_type": "markdown",
   "metadata": {},
   "source": [
    "## Integrating memory"
   ]
  },
  {
   "cell_type": "code",
   "execution_count": 9,
   "metadata": {},
   "outputs": [],
   "source": [
    "from langchain_core.chat_history import BaseChatMessageHistory\n",
    "from langchain_core.chat_history import InMemoryChatMessageHistory\n",
    "from langchain_core.runnables.history import RunnableWithMessageHistory\n",
    "from langchain_core.messages import AIMessage"
   ]
  },
  {
   "cell_type": "code",
   "execution_count": 10,
   "metadata": {},
   "outputs": [],
   "source": [
    "store ={}"
   ]
  },
  {
   "cell_type": "code",
   "execution_count": 11,
   "metadata": {},
   "outputs": [],
   "source": [
    "def get_session_history(session_id: str) -> BaseChatMessageHistory:\n",
    "    if session_id not in store:\n",
    "        store[session_id] = InMemoryChatMessageHistory()\n",
    "    return store[session_id]"
   ]
  },
  {
   "cell_type": "code",
   "execution_count": 12,
   "metadata": {},
   "outputs": [],
   "source": [
    "config = {\"configurable\": {\"session_id\":\"first_chat\"}}"
   ]
  },
  {
   "cell_type": "code",
   "execution_count": 13,
   "metadata": {},
   "outputs": [],
   "source": [
    "model_with_memory = RunnableWithMessageHistory(llm,get_session_history)"
   ]
  },
  {
   "cell_type": "code",
   "execution_count": 14,
   "metadata": {},
   "outputs": [
    {
     "data": {
      "text/plain": [
       "\"Hello Shochcho!  It's nice to meet you. How can I help you today?\""
      ]
     },
     "execution_count": 14,
     "metadata": {},
     "output_type": "execute_result"
    }
   ],
   "source": [
    "model_with_memory.invoke((\"Hello. I am Shochcho\"), config=config).content"
   ]
  },
  {
   "cell_type": "code",
   "execution_count": 15,
   "metadata": {},
   "outputs": [
    {
     "data": {
      "text/plain": [
       "'Your name is Shochcho.'"
      ]
     },
     "execution_count": 15,
     "metadata": {},
     "output_type": "execute_result"
    }
   ],
   "source": [
    "model_with_memory.invoke((\"What is my name?\"), config=config).content"
   ]
  },
  {
   "cell_type": "code",
   "execution_count": 16,
   "metadata": {},
   "outputs": [
    {
     "data": {
      "text/plain": [
       "'No, I do not know your age.  I only know what you have told me, which is your name.'"
      ]
     },
     "execution_count": 16,
     "metadata": {},
     "output_type": "execute_result"
    }
   ],
   "source": [
    "model_with_memory.invoke((\"Do you know my age?\"), config=config).content"
   ]
  },
  {
   "cell_type": "code",
   "execution_count": 17,
   "metadata": {},
   "outputs": [
    {
     "data": {
      "text/plain": [
       "'Okay, Shochcho.  I now know you are 24 years old.  Is there anything else I can help you with?'"
      ]
     },
     "execution_count": 17,
     "metadata": {},
     "output_type": "execute_result"
    }
   ],
   "source": [
    "model_with_memory.invoke((\"I am 24 years old.\"), config=config).content"
   ]
  },
  {
   "cell_type": "code",
   "execution_count": 18,
   "metadata": {},
   "outputs": [
    {
     "data": {
      "text/plain": [
       "'Yes, I know you are 24 years old.'"
      ]
     },
     "execution_count": 18,
     "metadata": {},
     "output_type": "execute_result"
    }
   ],
   "source": [
    "model_with_memory.invoke((\"Now, do you know my age?\"), config=config).content"
   ]
  },
  {
   "cell_type": "code",
   "execution_count": 19,
   "metadata": {},
   "outputs": [
    {
     "data": {
      "text/plain": [
       "{'first_chat': InMemoryChatMessageHistory(messages=[HumanMessage(content='Hello. I am Shochcho', additional_kwargs={}, response_metadata={}), AIMessage(content=\"Hello Shochcho!  It's nice to meet you. How can I help you today?\", additional_kwargs={}, response_metadata={'prompt_feedback': {'block_reason': 0, 'safety_ratings': []}, 'finish_reason': 'STOP', 'safety_ratings': []}, id='run-076ced2d-f185-49c6-bf39-47179defd6e8-0', usage_metadata={'input_tokens': 8, 'output_tokens': 22, 'total_tokens': 30, 'input_token_details': {'cache_read': 0}}), HumanMessage(content='What is my name?', additional_kwargs={}, response_metadata={}), AIMessage(content='Your name is Shochcho.', additional_kwargs={}, response_metadata={'prompt_feedback': {'block_reason': 0, 'safety_ratings': []}, 'finish_reason': 'STOP', 'safety_ratings': []}, id='run-a2e79aed-9111-4890-b856-78dc7326554d-0', usage_metadata={'input_tokens': 36, 'output_tokens': 8, 'total_tokens': 44, 'input_token_details': {'cache_read': 0}}), HumanMessage(content='Do you know my age?', additional_kwargs={}, response_metadata={}), AIMessage(content='No, I do not know your age.  I only know what you have told me, which is your name.', additional_kwargs={}, response_metadata={'prompt_feedback': {'block_reason': 0, 'safety_ratings': []}, 'finish_reason': 'STOP', 'safety_ratings': []}, id='run-fd6815c3-848c-4a23-b4d1-5a436de27ef8-0', usage_metadata={'input_tokens': 51, 'output_tokens': 25, 'total_tokens': 76, 'input_token_details': {'cache_read': 0}}), HumanMessage(content='I am 24 years old.', additional_kwargs={}, response_metadata={}), AIMessage(content='Okay, Shochcho.  I now know you are 24 years old.  Is there anything else I can help you with?', additional_kwargs={}, response_metadata={'prompt_feedback': {'block_reason': 0, 'safety_ratings': []}, 'finish_reason': 'STOP', 'safety_ratings': []}, id='run-0ed79891-387a-4f7b-b4d5-b34fe3fe9f1f-0', usage_metadata={'input_tokens': 85, 'output_tokens': 30, 'total_tokens': 115, 'input_token_details': {'cache_read': 0}}), HumanMessage(content='Now, do you know my age?', additional_kwargs={}, response_metadata={}), AIMessage(content='Yes, I know you are 24 years old.', additional_kwargs={}, response_metadata={'prompt_feedback': {'block_reason': 0, 'safety_ratings': []}, 'finish_reason': 'STOP', 'safety_ratings': []}, id='run-9a1517b9-c9ca-467c-a6f8-a5f8ec384118-0', usage_metadata={'input_tokens': 124, 'output_tokens': 13, 'total_tokens': 137, 'input_token_details': {'cache_read': 0}})])}"
      ]
     },
     "execution_count": 19,
     "metadata": {},
     "output_type": "execute_result"
    }
   ],
   "source": [
    "store"
   ]
  },
  {
   "cell_type": "markdown",
   "metadata": {},
   "source": [
    "## RAG"
   ]
  },
  {
   "cell_type": "code",
   "execution_count": 21,
   "metadata": {},
   "outputs": [],
   "source": [
    "from langchain_community.document_loaders import TextLoader, DirectoryLoader, PyPDFLoader\n",
    "from langchain.text_splitter import RecursiveCharacterTextSplitter\n",
    "from langchain_community.vectorstores import FAISS\n",
    "from langchain import PromptTemplate\n",
    "from langchain_core.runnables import RunnableParallel, RunnablePassthrough , RunnableLambda\n",
    "from langchain_core.output_parsers import StrOutputParser"
   ]
  },
  {
   "cell_type": "code",
   "execution_count": 23,
   "metadata": {},
   "outputs": [
    {
     "name": "stderr",
     "output_type": "stream",
     "text": [
      "C:\\Users\\User\\AppData\\Local\\Temp\\ipykernel_17468\\2339167315.py:24: LangChainDeprecationWarning: The method `BaseRetriever.get_relevant_documents` was deprecated in langchain-core 0.1.46 and will be removed in 1.0. Use :meth:`~invoke` instead.\n",
      "  results = retriever.get_relevant_documents(query)\n"
     ]
    },
    {
     "name": "stdout",
     "output_type": "stream",
     "text": [
      "Result 1:\n",
      "Introduction  19\n",
      " https://doi.org/10.15215/remix/9781998944088.01\n",
      "In Python, however, you only need to write the following code and save to \n",
      "a file, say, myhelloworld .py:\n",
      "print(\"Hello World!\")\n",
      "Then run the following command:\n",
      "python myhelloworld .py\n",
      "More importantly, Python supports different programming paradigms, \n",
      "including structured programming, imperative programming, object- oriented \n",
      "programming, functional programming, and procedural programming.  \n",
      "Logic programming is probably the only exception; it is not supported by Python.\n",
      "Python is very powerful for two reasons. The first reason, as you will see \n",
      "later, is that Python has many powerful language constructs and statements to \n",
      "represent data and operations on various data. The second reason is that there \n",
      "are thousands of third- party packages/libraries/modules available for all kinds \n",
      "of programming needs in addition to the large standard libraries included\n",
      "\n",
      "Result 2:\n",
      "https://doi.org/10.15215/remix/9781998944088.01\n",
      "Chapter 1\n",
      "Introduction\n",
      "This chapter prepares you to learn how to program with Python. Preparation \n",
      "includes a brief introduction to computers and computing, programming, \n",
      "and programming languages, as well as the installation of Python and Python \n",
      "interactive programming and integrated development environments (IDEs), \n",
      "including Jupyter Notebook for interactive programming and VS Code as a \n",
      "required IDE.\n",
      "Learning Objectives\n",
      "After completing this chapter, you should be able to\n",
      "• talk about the history of computers.\n",
      "• describe the basic components of modern computers and their roles.\n",
      "• explain the basic principles of modern computers.\n",
      "• discuss the basics of computability and computational complexity.\n",
      "• explain how the construction of modern computers has evolved.\n",
      "• explain what computer systems are made of.\n",
      "• discuss computer programming languages.\n",
      "• describe Python and discuss its development, features, and advantages.\n",
      "\n",
      "Result 3:\n",
      "Contents  vii\n",
      " 1.8 Manage Your Working Files for Software Development  \n",
      "Projects 58\n",
      "Set Up Git on Your Computer and Version- Control Locally 59\n",
      "Set Up an Account on GitHub and Version- Control with Remote \n",
      "Repositories 62\n",
      "  Chapter Summary 67\n",
      "  Exercises 69\n",
      "  Projects 71\n",
      " Chapter 2 Essential Building Blocks of Computer \n",
      "Programs 73\n",
      "  Learning Objectives 73\n",
      " 2.1 Primary Constructs of Computer Programs in Python 74\n",
      "Vocabulary of the Programming Language 74\n",
      "Rules of Naming Identifiers 76\n",
      "Python Naming Conventions 79\n",
      "Names with Leading and/or Trailing Underscores 79\n",
      "Rules of Scope Resolution for Identifiers 81\n",
      "Simple Data Types 82\n",
      "Signed Integers (int) 83\n",
      "Float (float) 87\n",
      "Boolean (bool) 88\n",
      "Complex (complex) 89\n",
      "Compound Data Types 89\n",
      "String (str) 90\n",
      "List 95\n",
      "Tuple 97\n",
      "Set 98\n",
      "Dictionary 99\n",
      "Object 99\n",
      "Variables and Constants 101\n",
      "Variables 101\n",
      "Built- In Constants 104\n",
      "Operators 106\n",
      "Arithmetic Operators 106\n",
      "Comparison Operators 108\n",
      "Logical Operators 109\n",
      "Bitwise Operators 111\n",
      "\n",
      "Result 4:\n",
      "Contents\n",
      " Chapter 1 Introduction 1\n",
      "  Learning Objectives 1\n",
      " 1.1 A Brief History of Computers 1\n",
      " 1.2 Fundamentals of Computing and Modern Computers 5\n",
      "Number Systems and the Foundation of Computing 6\n",
      "Computability and Computational Complexity 9\n",
      "The Construction of Modern Computers 11\n",
      "Analog Computers 11\n",
      "Digital Computers 12\n",
      "Mechanic- Based Components 13\n",
      "Vacuum Tube– Based Components 14\n",
      "Transistors 14\n",
      "Integrated Circuits and Very Large- Scale Integrated Circuits 14\n",
      " 1.3 Programming and Programming Languages 15\n",
      " 1.4 Python Programming Language 17\n",
      "The Development and Implementation of Python 17\n",
      "Advantages of Python 18\n",
      "Resources for Python and Python Education 19\n",
      " 1.5 Getting Ready to Learn Programming in Python 20\n",
      "Installing and Setting Up the Python Programming Environment 21\n",
      "Installing Python 21\n",
      "Setting Up a Virtual Environment for a Python Project 24\n",
      "Installing Jupyter Notebook 26\n",
      "Installing Visual Studio Code 27\n",
      "Additional Tools Supporting Software Development in Python 27\n",
      "Buildbot 27\n",
      "\n"
     ]
    }
   ],
   "source": [
    "# Step 1: Reading the txt files from source directory\n",
    "loader = DirectoryLoader('../data', glob=\"./*.pdf\", loader_cls=PyPDFLoader)\n",
    "docs = loader.load()\n",
    "\n",
    "# Step 2: Creating Chunks using RecursiveCharacterTextSplitter\n",
    "text_splitter = RecursiveCharacterTextSplitter(\n",
    "    chunk_size=1000,\n",
    "    chunk_overlap=200,\n",
    "    length_function=len\n",
    ")\n",
    "new_docs = text_splitter.split_documents(documents=docs)\n",
    "doc_strings = [doc.page_content for doc in new_docs]\n",
    "\n",
    "# Step 3: Creating Retriever using FAISS Vector DB\n",
    "\n",
    "# Create the FAISS database from the document embeddings\n",
    "db = FAISS.from_documents(new_docs, embeddings)\n",
    "\n",
    "# Create a retriever from the FAISS database\n",
    "retriever = db.as_retriever(search_kwargs={\"k\": 4})\n",
    "\n",
    "# Example usage of retriever\n",
    "query = \"What are the Basics of Python Programming?\"\n",
    "results = retriever.get_relevant_documents(query)\n",
    "for idx, result in enumerate(results, 1):\n",
    "    print(f\"Result {idx}:\\n{result.page_content}\\n\")"
   ]
  },
  {
   "cell_type": "code",
   "execution_count": 24,
   "metadata": {},
   "outputs": [],
   "source": [
    "template = \"\"\"Answer the question based only on the following context:\n",
    "{context}\n",
    "\n",
    "Question: {question}\n",
    "\"\"\"\n",
    "prompt = PromptTemplate.from_template(template)"
   ]
  },
  {
   "cell_type": "markdown",
   "metadata": {},
   "source": [
    "## LCEL"
   ]
  },
  {
   "cell_type": "code",
   "execution_count": 25,
   "metadata": {},
   "outputs": [],
   "source": [
    "retrieval_chain = (\n",
    "    RunnableParallel({\"context\": retriever, \"question\": RunnablePassthrough()})\n",
    "    | prompt\n",
    "    | llm\n",
    "    | StrOutputParser()\n",
    "    )"
   ]
  },
  {
   "cell_type": "code",
   "execution_count": 26,
   "metadata": {},
   "outputs": [
    {
     "name": "stdout",
     "output_type": "stream",
     "text": [
      "Based on the provided text, a for loop in Python is one of two statements used to create loops or iterations.  It takes the form:  `for <iteration variable> in <sequence to be looped through>:` followed by a code block. The iteration variable takes items one by one from the sequence (which can be a list, tuple, string, or iterable object).  The example provided does not show how to print a star pattern.\n"
     ]
    }
   ],
   "source": [
    "question =\"What is for loop? And how can I print star pattern using loop?\"\n",
    "print(retrieval_chain.invoke(question))"
   ]
  },
  {
   "cell_type": "markdown",
   "metadata": {},
   "source": [
    "## Tools and Agents"
   ]
  },
  {
   "cell_type": "code",
   "execution_count": 27,
   "metadata": {},
   "outputs": [],
   "source": [
    "from langchain_community.tools import WikipediaQueryRun\n",
    "from langchain_community.utilities import WikipediaAPIWrapper"
   ]
  },
  {
   "cell_type": "code",
   "execution_count": 28,
   "metadata": {},
   "outputs": [],
   "source": [
    "api_wrapper = WikipediaAPIWrapper(top_k_results=5, doc_content_chars_max=100)"
   ]
  },
  {
   "cell_type": "code",
   "execution_count": 29,
   "metadata": {},
   "outputs": [],
   "source": [
    "tool = WikipediaQueryRun(api_wrapper=api_wrapper)"
   ]
  },
  {
   "cell_type": "code",
   "execution_count": 30,
   "metadata": {},
   "outputs": [
    {
     "data": {
      "text/plain": [
       "'A wrapper around Wikipedia. Useful for when you need to answer general questions about people, places, companies, facts, historical events, or other subjects. Input should be a search query.'"
      ]
     },
     "execution_count": 30,
     "metadata": {},
     "output_type": "execute_result"
    }
   ],
   "source": [
    "tool.description"
   ]
  },
  {
   "cell_type": "code",
   "execution_count": 31,
   "metadata": {},
   "outputs": [
    {
     "data": {
      "text/plain": [
       "{'query': {'description': 'query to look up on wikipedia',\n",
       "  'title': 'Query',\n",
       "  'type': 'string'}}"
      ]
     },
     "execution_count": 31,
     "metadata": {},
     "output_type": "execute_result"
    }
   ],
   "source": [
    "tool.args"
   ]
  },
  {
   "cell_type": "code",
   "execution_count": 32,
   "metadata": {},
   "outputs": [
    {
     "name": "stderr",
     "output_type": "stream",
     "text": [
      "d:\\langgraph\\lang-env\\Lib\\site-packages\\wikipedia\\wikipedia.py:389: GuessedAtParserWarning: No parser was explicitly specified, so I'm using the best available HTML parser for this system (\"html.parser\"). This usually isn't a problem, but if you run this code on another system, or in a different virtual environment, it may use a different parser and behave differently.\n",
      "\n",
      "The code that caused this warning is on line 389 of the file d:\\langgraph\\lang-env\\Lib\\site-packages\\wikipedia\\wikipedia.py. To get rid of this warning, pass the additional argument 'features=\"html.parser\"' to the BeautifulSoup constructor.\n",
      "\n",
      "  lis = BeautifulSoup(html).find_all('li')\n"
     ]
    },
    {
     "name": "stdout",
     "output_type": "stream",
     "text": [
      "Page: Gemini (astrology)\n",
      "Summary: Gemini (♊︎) ( JEM-in-eye  Greek: Δίδυμοι, romanized: Dídymoi, Lati\n"
     ]
    }
   ],
   "source": [
    "print(tool.run({\"query\": \"Gemini\"}))"
   ]
  },
  {
   "cell_type": "code",
   "execution_count": 33,
   "metadata": {},
   "outputs": [],
   "source": [
    "from langchain_community.tools.tavily_search import TavilySearchResults"
   ]
  },
  {
   "cell_type": "code",
   "execution_count": 34,
   "metadata": {},
   "outputs": [],
   "source": [
    "tool = TavilySearchResults()"
   ]
  },
  {
   "cell_type": "code",
   "execution_count": 35,
   "metadata": {},
   "outputs": [
    {
     "data": {
      "text/plain": [
       "[{'url': 'https://abcnews.go.com/US/burning-man-flooding-happened-stranded-festivalgoers/story?id=102908331',\n",
       "  'content': 'Tens of thousands of Burning Man attendees are now able to leave the festival after a downpour and massive flooding left them stranded over the weekend.. The festival, held in the Black Rock'},\n",
       " {'url': 'https://www.nbcnews.com/news/us-news/live-blog/live-updates-burning-man-flooding-keeps-thousands-stranded-nevada-site-rcna103193',\n",
       "  'content': \"Profile\\nSections\\ntv\\nFeatured\\nMore From NBC\\nFollow NBC News\\nnews Alerts\\nThere are no new alerts at this time\\nBurning Man flooding keeps thousands stranded at Nevada site as authorities investigate 1 death\\nBurning Man attendees struggling to get home\\n70,000+ stuck at Burning Man: When will they be able to get out?\\n Thousands still stranded at Burning Man after torrential rain\\nBurning Man revelers unfazed by deluge and deep mud\\nReuters\\nThousands of Burning Man attendees partied hard on Sunday despite downpours that turned the Nevada desert where the annual arts and music festival takes place into a sea of sticky mud and led officials to order the multitudes to shelter in place.\\n Neal Katyal warns hiking in the mud\\ncan be 'worse than walking on ice'\\nDoha Madani\\nNeal Katyal, the former acting U.S. solicitor general, is among the Burning Man attendees who decided to take the risk and hike out of the festival grounds.\\n Videos posted to his Instagram story show Diplo walking through mud before, he says, he hitchhiked to Gerlach and Reno to make a flight to Washington, D.C.\\n“I just got done DJ’ing for three hours, after walking f---ing for four hours out of the desert and taking a flight, mud still on my face,” he said in a video posted to his Instagram story last night.\\n Burning Man memes are swamping social media\\nAngela Yang\\nAs heavy rain turns Burning Man 2023 into a muddy mess, a deluge of unsympathetic jokes has swamped the internet outside Black Rock City, the temporary location built annually for the nine-day festival in the remote desert of Nevada.\\n\"},\n",
       " {'url': 'https://www.cnn.com/2023/09/05/us/burning-man-storms-shelter-exodus-tuesday/index.html',\n",
       "  'content': \"CNN values your feedback\\nBurning Man attendees make a mass exodus after a dramatic weekend that left thousands stuck in the Nevada desert\\nThousands of Burning Man attendees finally made their mass exodus after intense rain over the weekend flooded camp sites and filled them with thick, ankle-deep mud – stranding more than 70,000 free-spirited revelers as they waited for the Nevada desert city to dry out.\\n Burning Man organizers lift driving ban after heavy rains left the event smothered in mud and trapped thousands\\nThe area was still muddy and parts were still difficult to navigate, organizers warned, and the wait time to leave the city Monday night was about seven hours. Diplo hitchhiked ride out of rain-drenched Burning Man after walking miles 'through the mud' and actually made it to his DC concert\\n“Quite a wet start to September for much of eastern CA-western NV,” the National Weather Service in Reno wrote on X. ” “As soon as the tents started getting water-logged or unlivable, people in RVs started taking in some of the tenters, so everybody was warm,” Kaz Qamruddin, who attended the event, told CNN’s Brianna Keilar Monday.\\n From wood blocks to 'poop buckets,' how Burning Man organizers told festivalgoers to prepare for heavy rain\\nAmong the early departures was music DJ Diplo, who told CNN he walked several miles in the muddy desert Saturday morning along with other celebrities, including Chris Rock, Cindy Crawford, Kaia Gerber and Austin Butler.\"},\n",
       " {'url': 'https://apnews.com/article/burning-man-festival-flooding-entrance-closed-d6cd88ee009c6e1f6d2d92739ec1ca18',\n",
       "  'content': 'The party still going,” said Scott London, a Southern California photographer, adding that the travel limitations offered “a view of Burning Man that a lot of us don’t get to see.”\\nMore than half an inch (1.3 centimeters) of rain and possibly close to 1 inch (2.5 centimeters) fell this weekend in parts of northwest Nevada, which includes the area where the Burning Man festival was being held, said Mark Deutschendorf, a meteorologist with the National Weather Service in Reno.\\n She said one of the biggest concerns has been the lack of toilet options because the trucks that normally arrive to clean out the portable toilets multiple times a day haven’t been able to reach the site since Friday’s rainstorm. The event began on Aug. 27 and had been scheduled to end Monday, according to the U.S. Bureau of Land Management, which oversees the Black Rock Desert, where the festival was held.\\n “I’m not leaving until both ‘The Man’ and ‘The Temple’ burn,” Barger said, referring to the wooden effigy and wooden structure that are traditionally torched during the event’s last two nights.\\n London, the Southern California photographer who was attending his 20th Burning Man and just published a book on the festival, “Burning Man: Art On Fire,” spent much of Saturday walking barefoot across the site, which is about 5 square miles.'},\n",
       " {'url': 'https://www.goodmorningamerica.com/news/story/burning-man-flooding-happened-stranded-festivalgoers-102908331',\n",
       "  'content': '\"\\nUp Next in News—\\nRuby Franke\\'s husband files for divorce as she faces charges of felony child abuse\\nFinal farewell held for Rosalynn Carter: What to know about her kids, grandkids\\nKroger, Walmart CEOs say Thanksgiving food is cheaper, still time to save and thaw the turkey\\nCourt docs show Tuohys paid Michael Oher approximately $138K for \\'The Blind Side\\'\\nShop Holiday Digital Deals\\n© 2023 ABC News In response to the unusual weather, event organizers shut down traffic in or out of what is called Black Rock City -- where the festival is held in the desert -- including the local airport.\\n MORE: These US regions will experience scorching temperatures for the remainder of Labor Day weekend\\nOn Sunday, mobile cell trailers to boost cell service and charging stations were placed around the festival grounds amid the recovery efforts, according to organizers.\\n This is typically the driest time of the year for the desert, and it does not take much rain to make the desert floor a mud bath.\\n On average, the area gets only 0.2 inches of rain or less in September -- but festivalgoers were met with up to 1 inch in some areas, in a desert that gets only about 5 to 6 inches of rain per year.\\n'}]"
      ]
     },
     "execution_count": 35,
     "metadata": {},
     "output_type": "execute_result"
    }
   ],
   "source": [
    "tool.invoke({\"query\": \"What happened in the latest burning man floods\"})"
   ]
  },
  {
   "cell_type": "code",
   "execution_count": 36,
   "metadata": {},
   "outputs": [],
   "source": [
    "from langchain.agents import AgentType\n",
    "from langchain.agents import load_tools \n",
    "from langchain.agents import initialize_agent"
   ]
  },
  {
   "cell_type": "code",
   "execution_count": 37,
   "metadata": {},
   "outputs": [],
   "source": [
    "tool=load_tools([\"wikipedia\"],llm=llm)"
   ]
  },
  {
   "cell_type": "code",
   "execution_count": 38,
   "metadata": {},
   "outputs": [
    {
     "name": "stderr",
     "output_type": "stream",
     "text": [
      "C:\\Users\\User\\AppData\\Local\\Temp\\ipykernel_17468\\2645007812.py:1: LangChainDeprecationWarning: LangChain agents will continue to be supported, but it is recommended for new use cases to be built with LangGraph. LangGraph offers a more flexible and full-featured framework for building agents, including support for tool-calling, persistence of state, and human-in-the-loop workflows. For details, refer to the `LangGraph documentation <https://langchain-ai.github.io/langgraph/>`_ as well as guides for `Migrating from AgentExecutor <https://python.langchain.com/docs/how_to/migrate_agent/>`_ and LangGraph's `Pre-built ReAct agent <https://langchain-ai.github.io/langgraph/how-tos/create-react-agent/>`_.\n",
      "  agent=initialize_agent(tool,llm,agent=AgentType.ZERO_SHOT_REACT_DESCRIPTION,verbose=True)\n"
     ]
    }
   ],
   "source": [
    "agent=initialize_agent(tool,llm,agent=AgentType.ZERO_SHOT_REACT_DESCRIPTION,verbose=True)"
   ]
  },
  {
   "cell_type": "code",
   "execution_count": 39,
   "metadata": {},
   "outputs": [
    {
     "name": "stderr",
     "output_type": "stream",
     "text": [
      "C:\\Users\\User\\AppData\\Local\\Temp\\ipykernel_17468\\1204910422.py:1: LangChainDeprecationWarning: The method `Chain.run` was deprecated in langchain 0.1.0 and will be removed in 1.0. Use :meth:`~invoke` instead.\n",
      "  agent.run(\"can you tell me what is current GDP of Bangladesh?\")\n"
     ]
    },
    {
     "name": "stdout",
     "output_type": "stream",
     "text": [
      "\n",
      "\n",
      "\u001b[1m> Entering new AgentExecutor chain...\u001b[0m\n",
      "\u001b[32;1m\u001b[1;3mThought: I need to find the current GDP of Bangladesh.  Wikipedia is a good source for this type of information.\n",
      "\n",
      "Action: wikipedia\n",
      "Action Input: GDP of Bangladesh\u001b[0m\n",
      "Observation: \u001b[36;1m\u001b[1;3mPage: Economy of Bangladesh\n",
      "Summary: The economy of Bangladesh is a major developing mixed economy. As the second-largest economy in South Asia, Bangladesh's economy is the 35th largest in the world in nominal terms, and 25th largest by purchasing power parity. Bangladesh is seen by various financial institutions as one of the Next Eleven. It has been transitioning from being a frontier market into an emerging market. Bangladesh is a member of the South Asian Free Trade Area and the World Trade Organization. In fiscal year 2021–2022, Bangladesh registered a GDP growth rate of 7.2% after the global pandemic. Bangladesh is one of the fastest growing economies in the world.\n",
      "Industrialisation in Bangladesh received a strong impetus after the partition of India due to labour reforms and new industries. Between 1947 and 1971, East Bengal generated between 70% and 50% of Pakistan's exports. Modern Bangladesh embarked on economic reforms in the late 1970s which promoted free markets and foreign direct investment. By the 1990s, the country had a booming ready-made garments industry. As of 16 March 2024, Bangladesh has the highest number of green garment factories in the world with Leadership in Energy and Environmental Design (LEED) certification from the United States Green Building Council (USGBC), where 80 are platinum-rated, 119 are gold-rated, 10 are silver, and four are without any rating. As of 6 March 2024, Bangladesh is home to 54 of the top 100 LEED Green Garment Factories globally, including 9 out of the top 10, and 18 out of the top 20. As of 27 April 2024, Bangladesh has a growing pharmaceutical industry with 12 percent average annual growth rate. Bangladesh is the only nation among the 48 least-developed countries that is almost self-sufficient when it comes to medicine production as local companies meet 98 percent of the domestic demand for pharmaceuticals. Remittances from the large Bangladeshi diaspora became a vital source of foreign exchange reserves. Agriculture in Bangladesh is supported by government subsidies and ensures self-sufficiency in food production. Bangladesh has pursued export-oriented industrialisation.\n",
      "Bangladesh experienced robust growth after the pandemic with macroeconomic stability, improvements in infrastructure, a growing digital economy, and growing trade flows. Tax collection remains very low, with tax revenues accounting for only 7.7% of GDP. Bangladesh's banking sector has a large amount of non-performing loans or loan defaults, which have caused a lot of concern. The private sector makes up 80% of GDP. The Dhaka Stock Exchange and Chittagong Stock Exchange are the two stock markets of the country. Most Bangladeshi businesses are privately owned small and medium-sized enterprises (SME) which make up 90% of all businesses.\n",
      "\n",
      "Page: List of countries by GDP (nominal)\n",
      "Summary: Gross domestic product (GDP) is the market value of all final goods and services from a nation in a given year. Countries are sorted by nominal GDP estimates from financial and statistical institutions, which are calculated at market or government official exchange rates. Nominal GDP does not take into account differences in the cost of living in different countries, and the results can vary greatly from one year to another based on fluctuations in the exchange rates of the country's currency. Such fluctuations may change a country's ranking from one year to the next, even though they often make little or no difference in the standard of living of its population.\n",
      "Comparisons of national wealth are also frequently made based on purchasing power parity (PPP), to adjust for differences in the cost of living in different countries. Other metrics, nominal GDP per capita and a corresponding GDP (PPP) per capita are used for comparing national standard of living. On the whole, PPP per capita figures are less spread than nominal GDP per capita figures.\n",
      "The rankings of national economies over time have changed considerably; the econ\u001b[0m\n",
      "Thought:\u001b[32;1m\u001b[1;3mThought: The Wikipedia article on the economy of Bangladesh gives some information about its GDP growth but doesn't state the current nominal GDP figure. I need to find a page that lists countries by GDP.\n",
      "\n",
      "Action: wikipedia\n",
      "Action Input: List of countries by GDP (nominal)\u001b[0m\n",
      "Observation: \u001b[36;1m\u001b[1;3mPage: List of countries by GDP (nominal)\n",
      "Summary: Gross domestic product (GDP) is the market value of all final goods and services from a nation in a given year. Countries are sorted by nominal GDP estimates from financial and statistical institutions, which are calculated at market or government official exchange rates. Nominal GDP does not take into account differences in the cost of living in different countries, and the results can vary greatly from one year to another based on fluctuations in the exchange rates of the country's currency. Such fluctuations may change a country's ranking from one year to the next, even though they often make little or no difference in the standard of living of its population.\n",
      "Comparisons of national wealth are also frequently made based on purchasing power parity (PPP), to adjust for differences in the cost of living in different countries. Other metrics, nominal GDP per capita and a corresponding GDP (PPP) per capita are used for comparing national standard of living. On the whole, PPP per capita figures are less spread than nominal GDP per capita figures.\n",
      "The rankings of national economies over time have changed considerably; the economy of the United States surpassed the British Empire's output around 1916, which in turn had surpassed the economy of the Qing dynasty in aggregate output decades earlier. Since China's transition to a socialist market economy through controlled privatisation and deregulation, the country has seen its ranking increase from ninth in 1978, to second in 2010; China's economic growth accelerated during this period and its share of global nominal GDP surged from 2% in 1980 to 18% in 2021. Among others, India has also experienced an economic boom since the implementation of economic liberalisation in the early 1990s.\n",
      "The first list includes estimates compiled by the International Monetary Fund's World Economic Outlook, the second list shows the World Bank's data, and the third list includes data compiled by the United Nations Statistics Division. The IMF's definitive data for the past year and estimates for the current year are published twice a year in April and October. Non-sovereign entities (the world, continents, and some dependent territories) and states with limited international recognition (such as Kosovo and Taiwan) are included in the list where they appear in the sources.\n",
      "\n",
      "Page: List of countries by GDP (nominal) per capita\n",
      "Summary: This is a list of countries by nominal GDP per capita.\n",
      "GDP per capita is often considered an indicator of a country's standard of living; however, this is inaccurate because GDP per capita is not a measure of personal income. Measures of personal income include average wage, real income, median income, disposable income and GNI per capita.\n",
      "Comparisons of GDP per capita are also frequently made on the basis of purchasing power parity (PPP), to adjust for differences in the cost of living in different countries, see List of countries by GDP (PPP) per capita. PPP largely removes the exchange rate problem but not others; it does not reflect the value of economic output in international trade, and it also requires more estimation than GDP per capita. On the whole, PPP per capita figures are more narrowly spread than nominal GDP per capita figures.\n",
      "The figures presented here do not take into account differences in the cost of living in different countries, and the results vary greatly from one year to another based on fluctuations in the exchange rates of the country's currency. Such fluctuations change a country's ranking from one year to the next, even though they often make little or no difference to the standard of living of its population.\n",
      "For change of GDP per capita over time as a measure of economic growth, see real GDP growth and real GDP per capita growth.\n",
      "Non-sovereign entities (the world, continents, and some dependent territories) and states with limited international recognition are included in the list in cases in \u001b[0m\n",
      "Thought:\u001b[32;1m\u001b[1;3mThought:The Wikipedia page on the list of countries by nominal GDP doesn't provide a specific number for Bangladesh's current GDP.  I need to find a more reliable source or a more precise search term.  The page does mention the IMF and World Bank as sources, but doesn't directly link to their data.\n",
      "\n",
      "Thought:I will try searching for a more specific query on Wikipedia that might yield the exact figure.\n",
      "\n",
      "Action: wikipedia\n",
      "Action Input: Bangladesh GDP IMF\u001b[0m\n",
      "Observation: \u001b[36;1m\u001b[1;3mPage: List of countries by GDP (nominal)\n",
      "Summary: Gross domestic product (GDP) is the market value of all final goods and services from a nation in a given year. Countries are sorted by nominal GDP estimates from financial and statistical institutions, which are calculated at market or government official exchange rates. Nominal GDP does not take into account differences in the cost of living in different countries, and the results can vary greatly from one year to another based on fluctuations in the exchange rates of the country's currency. Such fluctuations may change a country's ranking from one year to the next, even though they often make little or no difference in the standard of living of its population.\n",
      "Comparisons of national wealth are also frequently made based on purchasing power parity (PPP), to adjust for differences in the cost of living in different countries. Other metrics, nominal GDP per capita and a corresponding GDP (PPP) per capita are used for comparing national standard of living. On the whole, PPP per capita figures are less spread than nominal GDP per capita figures.\n",
      "The rankings of national economies over time have changed considerably; the economy of the United States surpassed the British Empire's output around 1916, which in turn had surpassed the economy of the Qing dynasty in aggregate output decades earlier. Since China's transition to a socialist market economy through controlled privatisation and deregulation, the country has seen its ranking increase from ninth in 1978, to second in 2010; China's economic growth accelerated during this period and its share of global nominal GDP surged from 2% in 1980 to 18% in 2021. Among others, India has also experienced an economic boom since the implementation of economic liberalisation in the early 1990s.\n",
      "The first list includes estimates compiled by the International Monetary Fund's World Economic Outlook, the second list shows the World Bank's data, and the third list includes data compiled by the United Nations Statistics Division. The IMF's definitive data for the past year and estimates for the current year are published twice a year in April and October. Non-sovereign entities (the world, continents, and some dependent territories) and states with limited international recognition (such as Kosovo and Taiwan) are included in the list where they appear in the sources.\n",
      "\n",
      "Page: List of countries by past and projected GDP (nominal)\n",
      "Summary: This is an alphabetical list of countries by past and projected gross domestic product (nominal) as ranked by the IMF. Figures are based on official exchange rates, not on the purchasing power parity (PPP) methodology. Values are given in millions of United States dollars (USD) and have not been adjusted for inflation. These figures have been taken from the International Monetary Fund's World Economic Outlook (WEO) Database (October 2024 edition) and/or other sources.\n",
      "For older GDP trends, see List of regions by past GDP (PPP).\n",
      "\n",
      "Page: List of countries by GDP (nominal) per capita\n",
      "Summary: This is a list of countries by nominal GDP per capita.\n",
      "GDP per capita is often considered an indicator of a country's standard of living; however, this is inaccurate because GDP per capita is not a measure of personal income. Measures of personal income include average wage, real income, median income, disposable income and GNI per capita.\n",
      "Comparisons of GDP per capita are also frequently made on the basis of purchasing power parity (PPP), to adjust for differences in the cost of living in different countries, see List of countries by GDP (PPP) per capita. PPP largely removes the exchange rate problem but not others; it does not reflect the value of economic output in international trade, and it also requires more estimation than GDP per capita. On the whole, PPP per capita figures are more narrowly spread than nominal GDP per capita figures.\n",
      "The figures presented here do not take into account differences in the cost of living in d\u001b[0m\n",
      "Thought:\u001b[32;1m\u001b[1;3mThought:The Wikipedia search for \"Bangladesh GDP IMF\" still doesn't give a precise current GDP figure.  The articles mention the IMF as a source, but don't provide a direct link to the data.  To get a precise answer, I would need to access the IMF's data directly, which is beyond my current capabilities.  I can, however, offer a qualified answer based on the information available.\n",
      "\n",
      "Thought:I now know the final answer, but it will be an approximation and not an exact figure.\n",
      "\n",
      "Final Answer: I cannot provide the exact current GDP of Bangladesh.  Wikipedia articles on Bangladesh's economy and lists of countries by GDP refer to the IMF and World Bank as sources for this type of data, but do not provide the precise current figure.  To obtain the most up-to-date and precise figure, you would need to consult the IMF's World Economic Outlook database directly.\u001b[0m\n",
      "\n",
      "\u001b[1m> Finished chain.\u001b[0m\n"
     ]
    },
    {
     "data": {
      "text/plain": [
       "\"I cannot provide the exact current GDP of Bangladesh.  Wikipedia articles on Bangladesh's economy and lists of countries by GDP refer to the IMF and World Bank as sources for this type of data, but do not provide the precise current figure.  To obtain the most up-to-date and precise figure, you would need to consult the IMF's World Economic Outlook database directly.\""
      ]
     },
     "execution_count": 39,
     "metadata": {},
     "output_type": "execute_result"
    }
   ],
   "source": [
    "agent.run(\"can you tell me what is current GDP of Bangladesh?\")"
   ]
  },
  {
   "cell_type": "code",
   "execution_count": null,
   "metadata": {},
   "outputs": [],
   "source": []
  }
 ],
 "metadata": {
  "kernelspec": {
   "display_name": "lang-env",
   "language": "python",
   "name": "python3"
  },
  "language_info": {
   "codemirror_mode": {
    "name": "ipython",
    "version": 3
   },
   "file_extension": ".py",
   "mimetype": "text/x-python",
   "name": "python",
   "nbconvert_exporter": "python",
   "pygments_lexer": "ipython3",
   "version": "3.12.8"
  }
 },
 "nbformat": 4,
 "nbformat_minor": 2
}
