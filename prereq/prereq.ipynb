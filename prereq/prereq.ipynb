{
 "cells": [
  {
   "cell_type": "code",
   "execution_count": 1,
   "metadata": {},
   "outputs": [
    {
     "data": {
      "text/plain": [
       "True"
      ]
     },
     "execution_count": 1,
     "metadata": {},
     "output_type": "execute_result"
    }
   ],
   "source": [
    "import os\n",
    "from dotenv import load_dotenv\n",
    "load_dotenv()"
   ]
  },
  {
   "cell_type": "code",
   "execution_count": 2,
   "metadata": {},
   "outputs": [],
   "source": [
    "TAVILY_API_KEY = os.getenv(\"TAVILY_API_KEY\")\n",
    "LANGCHAIN_API_KEY = os.getenv(\"LANGCHAIN_API_KEY\")\n",
    "GROQ_API_KEY = os.getenv(\"GROQ_API_KEY\")\n",
    "SERPER_API_KEY = os.getenv(\"SERPER_API_KEY\")\n",
    "GOOGLE_API_KEY = os.getenv(\"GOOGLE_API_KEY\")\n",
    "LANGSMITH_PROJECT = os.getenv(\"LANGSMITH_PROJECT\")"
   ]
  },
  {
   "cell_type": "code",
   "execution_count": 3,
   "metadata": {},
   "outputs": [],
   "source": [
    "os.environ[\"TAVILY_API_KEY\"]= TAVILY_API_KEY\n",
    "os.environ[\"LANGCHAIN_API_KEY\"]= LANGCHAIN_API_KEY\n",
    "os.environ[\"GROQ_API_KEY\"]= GROQ_API_KEY\n",
    "os.environ[\"SERPER_API_KEY\"]= SERPER_API_KEY\n",
    "os.environ[\"GOOGLE_API_KEY\"]= GOOGLE_API_KEY\n",
    "os.environ[\"LANGSMITH_TRACING\"]= \"true\"\n",
    "os.environ[\"LANGSMITH_ENDPOINT\"]= \"https://api.smith.langchain.com\"\n",
    "os.environ[\"LANGSMITH_PROJECT\"]= LANGSMITH_PROJECT"
   ]
  },
  {
   "cell_type": "code",
   "execution_count": 5,
   "metadata": {},
   "outputs": [
    {
     "data": {
      "text/plain": [
       "'pre-req'"
      ]
     },
     "execution_count": 5,
     "metadata": {},
     "output_type": "execute_result"
    }
   ],
   "source": [
    "LANGSMITH_PROJECT"
   ]
  },
  {
   "cell_type": "code",
   "execution_count": 4,
   "metadata": {},
   "outputs": [
    {
     "name": "stderr",
     "output_type": "stream",
     "text": [
      "d:\\langgraph\\lang-env\\Lib\\site-packages\\tqdm\\auto.py:21: TqdmWarning: IProgress not found. Please update jupyter and ipywidgets. See https://ipywidgets.readthedocs.io/en/stable/user_install.html\n",
      "  from .autonotebook import tqdm as notebook_tqdm\n"
     ]
    }
   ],
   "source": [
    "from langchain_google_genai import GoogleGenerativeAIEmbeddings\n",
    "embeddings = GoogleGenerativeAIEmbeddings(model=\"models/text-embedding-004\")\n",
    "from langchain_google_genai import ChatGoogleGenerativeAI\n",
    "llm = ChatGoogleGenerativeAI(model=\"gemini-1.5-flash\")"
   ]
  },
  {
   "cell_type": "code",
   "execution_count": 6,
   "metadata": {},
   "outputs": [
    {
     "name": "stdout",
     "output_type": "stream",
     "text": [
      "Hello there! How can I help you today?\n",
      "I am doing well, thank you for asking!  How are you today?\n",
      "AI is rapidly transforming the financial industry, impacting nearly every aspect, from customer service to risk management.  Here are some key applications:\n",
      "\n",
      "**1. Algorithmic Trading:**\n",
      "\n",
      "* **High-Frequency Trading (HFT):** AI algorithms execute trades at incredibly high speeds, exploiting tiny price discrepancies for profit.  This requires complex models that analyze vast amounts of market data in milliseconds.\n",
      "* **Quantitative Trading (Quant Trading):**  AI models identify trading opportunities based on statistical analysis and predictive modeling of market trends. These models can be more sophisticated than simple rule-based systems, adapting to changing market conditions.\n",
      "\n",
      "**2. Fraud Detection and Prevention:**\n",
      "\n",
      "* **Anomaly Detection:** AI algorithms analyze transaction patterns to identify unusual activity that might indicate fraudulent behavior, such as credit card fraud or money laundering.  Machine learning models can learn to recognize complex and evolving fraud patterns.\n",
      "* **Real-time Monitoring:** AI systems monitor transactions in real-time, flagging suspicious activities immediately for review by human analysts.\n",
      "\n",
      "**3. Risk Management:**\n",
      "\n",
      "* **Credit Scoring and Lending:** AI improves the accuracy and efficiency of credit scoring by analyzing a wider range of data than traditional methods, leading to better risk assessment and more inclusive lending practices.\n",
      "* **Regulatory Compliance:** AI helps financial institutions meet regulatory requirements by automating compliance processes and identifying potential violations.\n",
      "* **Market Risk Management:** AI models predict market volatility and assess potential losses, allowing firms to better manage their risk exposures.\n",
      "\n",
      "**4. Customer Service and Personalization:**\n",
      "\n",
      "* **Chatbots and Virtual Assistants:** AI-powered chatbots provide instant customer support, answering common queries and resolving simple issues, freeing up human agents to handle more complex tasks.\n",
      "* **Personalized Financial Advice:** AI algorithms analyze customer data to provide tailored financial advice, such as investment recommendations or budgeting strategies.  Robo-advisors are a prime example of this.\n",
      "\n",
      "**5. Investment Management:**\n",
      "\n",
      "* **Portfolio Optimization:** AI helps build diversified and optimized investment portfolios based on individual investor risk tolerance and financial goals.\n",
      "* **Sentiment Analysis:** AI analyzes news articles, social media posts, and other sources of information to gauge market sentiment and predict future price movements.\n",
      "\n",
      "**6. Regulatory Technology (RegTech):**\n",
      "\n",
      "* **Know Your Customer (KYC) and Anti-Money Laundering (AML):** AI automates KYC/AML processes, improving efficiency and accuracy in identifying and verifying customer identities and detecting suspicious transactions.\n",
      "\n",
      "\n",
      "**Challenges and Considerations:**\n",
      "\n",
      "Despite the numerous benefits, there are also challenges associated with AI in finance:\n",
      "\n",
      "* **Data Bias:** AI models can inherit biases present in the data they are trained on, leading to unfair or discriminatory outcomes.\n",
      "* **Explainability and Transparency:**  Understanding how complex AI models arrive at their decisions is crucial for trust and accountability, particularly in regulated industries.  \"Black box\" models pose a significant challenge.\n",
      "* **Security and Privacy:**  Protecting sensitive financial data from cyberattacks and ensuring compliance with privacy regulations is paramount.\n",
      "* **Regulatory Uncertainty:** The rapid development of AI raises regulatory challenges, requiring clear guidelines and oversight.\n",
      "\n",
      "\n",
      "In conclusion, AI is transforming the financial industry in profound ways, offering opportunities for increased efficiency, improved risk management, and enhanced customer experiences.  However, careful consideration of ethical and practical challenges is crucial to ensure responsible and beneficial implementation.\n",
      "Have a great day. Bye!\n"
     ]
    }
   ],
   "source": [
    "while True:\n",
    "    question = input(\"Ask your question: \")\n",
    "    if question!=\"quit\":\n",
    "        print(llm.invoke(question).content)\n",
    "    else:\n",
    "        print(\"Have a great day. Bye!\")\n",
    "        break"
   ]
  }
 ],
 "metadata": {
  "kernelspec": {
   "display_name": "lang-env",
   "language": "python",
   "name": "python3"
  },
  "language_info": {
   "codemirror_mode": {
    "name": "ipython",
    "version": 3
   },
   "file_extension": ".py",
   "mimetype": "text/x-python",
   "name": "python",
   "nbconvert_exporter": "python",
   "pygments_lexer": "ipython3",
   "version": "3.11.7"
  }
 },
 "nbformat": 4,
 "nbformat_minor": 2
}
